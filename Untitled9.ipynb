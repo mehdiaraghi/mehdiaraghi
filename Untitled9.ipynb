{
  "nbformat": 4,
  "nbformat_minor": 0,
  "metadata": {
    "colab": {
      "name": "Untitled9.ipynb",
      "provenance": [],
      "authorship_tag": "ABX9TyO9ER6GeaFgZnJbNMe59Sj9"
    },
    "kernelspec": {
      "name": "python3",
      "display_name": "Python 3"
    },
    "accelerator": "GPU"
  },
  "cells": [
    {
      "cell_type": "code",
      "metadata": {
        "id": "f9YmKgAxOC1U",
        "colab_type": "code",
        "colab": {
          "base_uri": "https://localhost:8080/",
          "height": 51
        },
        "outputId": "ae7fcf67-7bd4-4cd0-a98d-1417e538a641"
      },
      "source": [
        "import nltk\n",
        "import pandas as pd\n",
        "import re\n",
        "from sklearn.feature_extraction.text import TfidfVectorizer\n",
        "import string\n",
        "from sklearn.ensemble import RandomForestClassifier\n",
        "from sklearn.model_selection import KFold, cross_val_score\n",
        "nltk.download('stopwords')\n",
        "\n",
        "#read the dataset\n",
        "df= pd.read_csv('SMSSpamCollection.tsv', sep='\\t')\n",
        "df.columns=['label','body']\n",
        "\n",
        "stopped= nltk.corpus.stopwords.words('english')\n",
        "ps= nltk.PorterStemmer()\n",
        "\n",
        "#\n",
        "def puncount(text):\n",
        "  count= sum([1 for char in text if char in string.punctuation])\n",
        "  return round(count/(len(text)- text.count(' ')),3)*100\n",
        "\n",
        "df['bodylen']= df['body'].apply(lambda x: len(x)- x.count(' '))\n",
        "df['%punc']= df['body'].apply(lambda x: puncount(x))\n",
        "\n",
        "def clean(text):\n",
        "  puncremover= ''.join([char.lower() for char in text if char not in string.punctuation])\n",
        "  token= re.split('\\W+', puncremover)\n",
        "  stopremover= [ps.stem(char) for char in token if char not in stopped]\n",
        "  return stopremover\n",
        "\n",
        "texttfidf= TfidfVectorizer(analyzer= clean)\n",
        "X_texttfidf= texttfidf.fit_transform(df['body'])\n",
        "\n",
        "dfready= pd.concat([df['bodylen'],df['%punc'],pd.DataFrame(X_texttfidf.toarray())], axis= 1)\n"
      ],
      "execution_count": 9,
      "outputs": [
        {
          "output_type": "stream",
          "text": [
            "[nltk_data] Downloading package stopwords to /root/nltk_data...\n",
            "[nltk_data]   Package stopwords is already up-to-date!\n"
          ],
          "name": "stdout"
        }
      ]
    },
    {
      "cell_type": "code",
      "metadata": {
        "id": "uhnRDmoByKE4",
        "colab_type": "code",
        "colab": {
          "base_uri": "https://localhost:8080/",
          "height": 105
        },
        "outputId": "96e44457-8da6-4c1c-fc95-0240026560ee"
      },
      "source": [
        "rf= RandomForestClassifier(n_jobs=-1)\n",
        "k_fold= KFold(n_splits=10)\n",
        "crossval = cross_val_score(rf,dfready,df['label'], cv=k_fold, scoring='accuracy', n_jobs=-1 )\n",
        "crossval"
      ],
      "execution_count": 12,
      "outputs": [
        {
          "output_type": "stream",
          "text": [
            "/usr/local/lib/python3.6/dist-packages/joblib/externals/loky/process_executor.py:706: UserWarning: A worker stopped while some jobs were given to the executor. This can be caused by a too short worker timeout or by a memory leak.\n",
            "  \"timeout or by a memory leak.\", UserWarning\n"
          ],
          "name": "stderr"
        },
        {
          "output_type": "execute_result",
          "data": {
            "text/plain": [
              "array([0.98743268, 0.96409336, 0.97486535, 0.98743268, 0.97307002,\n",
              "       0.97845601, 0.97307002, 0.97122302, 0.97841727, 0.98021583])"
            ]
          },
          "metadata": {
            "tags": []
          },
          "execution_count": 12
        }
      ]
    },
    {
      "cell_type": "code",
      "metadata": {
        "id": "xaAxXOxA18hX",
        "colab_type": "code",
        "colab": {}
      },
      "source": [
        ""
      ],
      "execution_count": 0,
      "outputs": []
    }
  ]
}