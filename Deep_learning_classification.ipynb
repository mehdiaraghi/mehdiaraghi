{
  "nbformat": 4,
  "nbformat_minor": 0,
  "metadata": {
    "colab": {
      "provenance": [],
      "authorship_tag": "ABX9TyN+zlJbXY1cEkqXv0Gh7Sk2",
      "include_colab_link": true
    },
    "kernelspec": {
      "name": "python3",
      "display_name": "Python 3"
    },
    "language_info": {
      "name": "python"
    }
  },
  "cells": [
    {
      "cell_type": "markdown",
      "metadata": {
        "id": "view-in-github",
        "colab_type": "text"
      },
      "source": [
        "<a href=\"https://colab.research.google.com/github/mehdiaraghi/mehdiaraghi/blob/master/Deep_learning_classification.ipynb\" target=\"_parent\"><img src=\"https://colab.research.google.com/assets/colab-badge.svg\" alt=\"Open In Colab\"/></a>"
      ]
    },
    {
      "cell_type": "code",
      "execution_count": null,
      "metadata": {
        "id": "3DOtDyufYsIA"
      },
      "outputs": [],
      "source": [
        "import keras\n",
        "from keras.models import Sequential\n",
        "from keras.layers import Dense, Conv2D, Flatten, MaxPooling2D\n",
        "from keras.utils import to_categorical\n",
        "import pandas as pd\n",
        "import matplotlib.pyplot as plt\n",
        "import numpy as np"
      ]
    },
    {
      "cell_type": "code",
      "source": [
        "from keras.datasets import mnist\n",
        "(X_train,y_train), (X_test, y_test) = mnist.load_data()"
      ],
      "metadata": {
        "id": "aUeutuA2Y2mg"
      },
      "execution_count": null,
      "outputs": []
    },
    {
      "cell_type": "code",
      "source": [
        "plt.imshow(X_train[10])\n"
      ],
      "metadata": {
        "colab": {
          "base_uri": "https://localhost:8080/",
          "height": 282
        },
        "id": "AZM74CLHZyux",
        "outputId": "421d2c61-a758-4a8a-94f3-bdba57b97311"
      },
      "execution_count": null,
      "outputs": [
        {
          "output_type": "execute_result",
          "data": {
            "text/plain": [
              "<matplotlib.image.AxesImage at 0x7fe8d1a2cdc0>"
            ]
          },
          "metadata": {},
          "execution_count": 105
        },
        {
          "output_type": "display_data",
          "data": {
            "text/plain": [
              "<Figure size 432x288 with 1 Axes>"
            ],
            "image/png": "[encoded data removed]"
          },
          "metadata": {
            "needs_background": "light"
          }
        }
      ]
    },
    {
      "cell_type": "code",
      "source": [
        "X_train = X_train.reshape(X_train.shape[0], 28,28,1).astype('float32')\n",
        "X_test = X_test.reshape(X_test.shape[0], 28,28,1).astype('float32')"
      ],
      "metadata": {
        "id": "wgFR1GxUZ6yj"
      },
      "execution_count": null,
      "outputs": []
    },
    {
      "cell_type": "code",
      "source": [
        "X_train = X_train / 255\n",
        "X_test = X_test / 255"
      ],
      "metadata": {
        "id": "Xo6fuQPLkAR7"
      },
      "execution_count": null,
      "outputs": []
    },
    {
      "cell_type": "code",
      "source": [
        "y_train[10]"
      ],
      "metadata": {
        "colab": {
          "base_uri": "https://localhost:8080/"
        },
        "id": "reXWWCRm5xsP",
        "outputId": "f7eefaf0-9d1c-428b-ed3f-ded9b2650a4e"
      },
      "execution_count": null,
      "outputs": [
        {
          "output_type": "execute_result",
          "data": {
            "text/plain": [
              "3"
            ]
          },
          "metadata": {},
          "execution_count": 108
        }
      ]
    },
    {
      "cell_type": "code",
      "source": [
        "y_train = to_categorical(y_train)\n",
        "y_test = to_categorical(y_test)\n",
        "num_class =y_train.shape[1]"
      ],
      "metadata": {
        "id": "9K7ZJIy_ki3W"
      },
      "execution_count": null,
      "outputs": []
    },
    {
      "cell_type": "code",
      "source": [],
      "metadata": {
        "id": "nchqmtHM5Yia"
      },
      "execution_count": null,
      "outputs": []
    },
    {
      "cell_type": "code",
      "source": [
        "def classification_model ():\n",
        "  model = Sequential()\n",
        "  model.add(Conv2D(16, (5,5) , strides=(1,1), activation = 'relu' , input_shape = (28,28,1)))\n",
        "  model.add(MaxPooling2D(pool_size=(2,2), strides=(2,2)))\n",
        "  model.add(Conv2D(8, (2,2) , strides=(1,1), activation='relu'))\n",
        "  model.add(MaxPooling2D(pool_size=(2,2), strides=(2,2)))\n",
        "  model.add(Flatten())\n",
        "  model.add(Dense(100, activation = 'relu'))\n",
        "  model.add(Dense(num_class, activation = 'softmax'))\n",
        "  model.compile(optimizer='adam', loss='categorical_crossentropy', metrics=['accuracy'])\n",
        "\n",
        "  return model"
      ],
      "metadata": {
        "id": "y_OZpTQ-5X8Q"
      },
      "execution_count": null,
      "outputs": []
    },
    {
      "cell_type": "code",
      "source": [
        "model = classification_model()\n",
        "\n",
        "model.fit(X_train, y_train, validation_data = (X_test, y_test), epochs= 10, batch_size = 200, verbose = 2)"
      ],
      "metadata": {
        "colab": {
          "base_uri": "https://localhost:8080/"
        },
        "id": "uplLueOxKad6",
        "outputId": "0d911051-4b87-4697-ec5d-ac53874b1aba"
      },
      "execution_count": null,
      "outputs": [
        {
          "output_type": "stream",
          "name": "stdout",
          "text": [
            "Epoch 1/10\n",
            "300/300 - 23s - loss: 0.4822 - accuracy: 0.8666 - val_loss: 0.1378 - val_accuracy: 0.9615 - 23s/epoch - 76ms/step\n",
            "Epoch 2/10\n",
            "300/300 - 23s - loss: 0.1219 - accuracy: 0.9643 - val_loss: 0.0793 - val_accuracy: 0.9767 - 23s/epoch - 76ms/step\n",
            "Epoch 3/10\n",
            "300/300 - 23s - loss: 0.0834 - accuracy: 0.9748 - val_loss: 0.0644 - val_accuracy: 0.9798 - 23s/epoch - 77ms/step\n",
            "Epoch 4/10\n",
            "300/300 - 22s - loss: 0.0674 - accuracy: 0.9797 - val_loss: 0.0588 - val_accuracy: 0.9822 - 22s/epoch - 72ms/step\n",
            "Epoch 5/10\n",
            "300/300 - 22s - loss: 0.0556 - accuracy: 0.9829 - val_loss: 0.0470 - val_accuracy: 0.9840 - 22s/epoch - 72ms/step\n",
            "Epoch 6/10\n",
            "300/300 - 22s - loss: 0.0477 - accuracy: 0.9855 - val_loss: 0.0421 - val_accuracy: 0.9865 - 22s/epoch - 72ms/step\n",
            "Epoch 7/10\n",
            "300/300 - 22s - loss: 0.0424 - accuracy: 0.9870 - val_loss: 0.0392 - val_accuracy: 0.9864 - 22s/epoch - 72ms/step\n",
            "Epoch 8/10\n",
            "300/300 - 23s - loss: 0.0389 - accuracy: 0.9879 - val_loss: 0.0408 - val_accuracy: 0.9876 - 23s/epoch - 77ms/step\n",
            "Epoch 9/10\n",
            "300/300 - 22s - loss: 0.0352 - accuracy: 0.9888 - val_loss: 0.0389 - val_accuracy: 0.9866 - 22s/epoch - 73ms/step\n",
            "Epoch 10/10\n",
            "300/300 - 22s - loss: 0.0322 - accuracy: 0.9902 - val_loss: 0.0349 - val_accuracy: 0.9877 - 22s/epoch - 72ms/step\n"
          ]
        },
        {
          "output_type": "execute_result",
          "data": {
            "text/plain": [
              "<keras.callbacks.History at 0x7fe8d19abc70>"
            ]
          },
          "metadata": {},
          "execution_count": 111
        }
      ]
    },
    {
      "cell_type": "code",
      "source": [
        "scores = model.evaluate(X_test,y_test,verbose=2)"
      ],
      "metadata": {
        "colab": {
          "base_uri": "https://localhost:8080/"
        },
        "id": "WzwI7egENLuS",
        "outputId": "3546f6a7-d5a2-4358-b228-433d77221648"
      },
      "execution_count": null,
      "outputs": [
        {
          "output_type": "stream",
          "name": "stdout",
          "text": [
            "313/313 - 2s - loss: 0.0349 - accuracy: 0.9877 - 2s/epoch - 7ms/step\n"
          ]
        }
      ]
    },
    {
      "cell_type": "code",
      "source": [
        "print(\"Accuracy: {} \\n Error: {}\".format(scores[1], 100-scores[1]*100))"
      ],
      "metadata": {
        "colab": {
          "base_uri": "https://localhost:8080/"
        },
        "id": "oQJ4HkLxZfXs",
        "outputId": "f1ce315d-ba9f-4ff9-e180-990688238277"
      },
      "execution_count": null,
      "outputs": [
        {
          "output_type": "stream",
          "name": "stdout",
          "text": [
            "Accuracy: 0.9876999855041504 \n",
            " Error: 1.230001449584961\n"
          ]
        }
      ]
    },
    {
      "cell_type": "code",
      "source": [],
      "metadata": {
        "id": "mq6lmvng9tUL"
      },
      "execution_count": null,
      "outputs": []
    },
    {
      "cell_type": "code",
      "source": [],
      "metadata": {
        "id": "yJpSEp42-uXS"
      },
      "execution_count": null,
      "outputs": []
    },
    {
      "cell_type": "code",
      "source": [],
      "metadata": {
        "id": "S24kCAea-uTw"
      },
      "execution_count": null,
      "outputs": []
    },
    {
      "cell_type": "code",
      "source": [],
      "metadata": {
        "id": "80qfXl0g-uRD"
      },
      "execution_count": null,
      "outputs": []
    }
  ]
}