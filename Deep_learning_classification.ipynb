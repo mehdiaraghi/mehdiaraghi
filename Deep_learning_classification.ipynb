{
  "nbformat": 4,
  "nbformat_minor": 0,
  "metadata": {
    "colab": {
      "provenance": [],
      "authorship_tag": "ABX9TyOF6leMalzVjXx6Vs5l0HqQ",
      "include_colab_link": true
    },
    "kernelspec": {
      "name": "python3",
      "display_name": "Python 3"
    },
    "language_info": {
      "name": "python"
    }
  },
  "cells": [
    {
      "cell_type": "markdown",
      "metadata": {
        "id": "view-in-github",
        "colab_type": "text"
      },
      "source": [
        "<a href=\"https://colab.research.google.com/github/mehdiaraghi/mehdiaraghi/blob/master/Deep_learning_classification.ipynb\" target=\"_parent\"><img src=\"https://colab.research.google.com/assets/colab-badge.svg\" alt=\"Open In Colab\"/></a>"
      ]
    },
    {
      "cell_type": "code",
      "execution_count": 3,
      "metadata": {
        "id": "3DOtDyufYsIA"
      },
      "outputs": [],
      "source": [
        "import keras\n",
        "from keras.models import Sequential\n",
        "from keras.layers import Dense, Conv2D, Flatten, MaxPooling2D\n",
        "from keras.utils import to_categorical\n",
        "from keras.datasets import mnist\n",
        "import pandas as pd\n",
        "import matplotlib.pyplot as plt\n",
        "import numpy as np"
      ]
    },
    {
      "cell_type": "code",
      "source": [
        "#importing dataset\n",
        "(X_train,y_train), (X_test, y_test) = mnist.load_data()"
      ],
      "metadata": {
        "id": "aUeutuA2Y2mg"
      },
      "execution_count": 9,
      "outputs": []
    },
    {
      "cell_type": "code",
      "source": [
        "#plotting one sample\n",
        "plt.imshow(X_train[15])\n"
      ],
      "metadata": {
        "colab": {
          "base_uri": "https://localhost:8080/",
          "height": 282
        },
        "id": "AZM74CLHZyux",
        "outputId": "7da1b255-05e5-437c-ff4e-5e7c3db6604f"
      },
      "execution_count": 12,
      "outputs": [
        {
          "output_type": "execute_result",
          "data": {
            "text/plain": [
              "<matplotlib.image.AxesImage at 0x7fab319bcbe0>"
            ]
          },
          "metadata": {},
          "execution_count": 12
        },
        {
          "output_type": "display_data",
          "data": {
            "text/plain": [
              "<Figure size 432x288 with 1 Axes>"
            ],
            "image/png": "[encoded data removed]"
          },
          "metadata": {
            "needs_background": "light"
          }
        }
      ]
    },
    {
      "cell_type": "code",
      "source": [
        "#reshapping data input & normalizing the input\n",
        "X_train = (X_train.reshape(X_train.shape[0], 28,28,1).astype('float32'))/255\n",
        "X_test = (X_test.reshape(X_test.shape[0], 28,28,1).astype('float32'))/255"
      ],
      "metadata": {
        "id": "wgFR1GxUZ6yj"
      },
      "execution_count": 14,
      "outputs": []
    },
    {
      "cell_type": "code",
      "source": [
        "#converting y labels to categories\n",
        "y_train = to_categorical(y_train)\n",
        "y_test = to_categorical(y_test)\n",
        "#number of cagtegories\n",
        "num_class =y_train.shape[1]"
      ],
      "metadata": {
        "id": "9K7ZJIy_ki3W"
      },
      "execution_count": 15,
      "outputs": []
    },
    {
      "cell_type": "code",
      "source": [
        "#defining deep learning calassification model\n",
        "\n",
        "def classification_model ():\n",
        "  #create model\n",
        "  model = Sequential()\n",
        "\n",
        "  #create Convolational layers\n",
        "  model.add(Conv2D(32, (5,5) , strides=(1,1), activation = 'relu' , input_shape = (28,28,1)))\n",
        "  model.add(MaxPooling2D(pool_size=(2,2), strides=(2,2)))\n",
        "  model.add(Conv2D(16, (2,2) , strides=(1,1), activation='relu'))\n",
        "  model.add(MaxPooling2D(pool_size=(2,2), strides=(2,2)))\n",
        "  \n",
        "  #Flatten Covolotional layers output\n",
        "  model.add(Flatten())\n",
        "  \n",
        "  #add a deep learning layer\n",
        "  model.add(Dense(100, activation = 'relu'))\n",
        "  \n",
        "  #add out put \n",
        "  model.add(Dense(num_class, activation = 'softmax'))\n",
        "  \n",
        "  #compiling model\n",
        "  model.compile(optimizer='adam', loss='categorical_crossentropy', metrics=['accuracy'])\n",
        "\n",
        "  return model"
      ],
      "metadata": {
        "id": "y_OZpTQ-5X8Q"
      },
      "execution_count": 16,
      "outputs": []
    },
    {
      "cell_type": "code",
      "source": [
        "model = classification_model()\n",
        "\n",
        "model.fit(X_train, y_train, validation_data = (X_test, y_test), epochs= 10, batch_size = 200, verbose = 2)"
      ],
      "metadata": {
        "colab": {
          "base_uri": "https://localhost:8080/"
        },
        "id": "uplLueOxKad6",
        "outputId": "38d05a86-c8e4-4310-a02a-1243a61d4684"
      },
      "execution_count": 17,
      "outputs": [
        {
          "output_type": "stream",
          "name": "stdout",
          "text": [
            "Epoch 1/10\n",
            "300/300 - 33s - loss: 1.2827 - accuracy: 0.5897 - val_loss: 0.5257 - val_accuracy: 0.8397 - 33s/epoch - 109ms/step\n",
            "Epoch 2/10\n",
            "300/300 - 30s - loss: 0.4579 - accuracy: 0.8618 - val_loss: 0.3885 - val_accuracy: 0.8829 - 30s/epoch - 99ms/step\n",
            "Epoch 3/10\n",
            "300/300 - 30s - loss: 0.3775 - accuracy: 0.8833 - val_loss: 0.3323 - val_accuracy: 0.8976 - 30s/epoch - 99ms/step\n",
            "Epoch 4/10\n",
            "300/300 - 32s - loss: 0.3305 - accuracy: 0.8985 - val_loss: 0.2944 - val_accuracy: 0.9105 - 32s/epoch - 106ms/step\n",
            "Epoch 5/10\n",
            "300/300 - 30s - loss: 0.2921 - accuracy: 0.9113 - val_loss: 0.2658 - val_accuracy: 0.9161 - 30s/epoch - 100ms/step\n",
            "Epoch 6/10\n",
            "300/300 - 30s - loss: 0.2633 - accuracy: 0.9192 - val_loss: 0.2378 - val_accuracy: 0.9262 - 30s/epoch - 100ms/step\n",
            "Epoch 7/10\n",
            "300/300 - 31s - loss: 0.2376 - accuracy: 0.9277 - val_loss: 0.2073 - val_accuracy: 0.9359 - 31s/epoch - 103ms/step\n",
            "Epoch 8/10\n",
            "300/300 - 31s - loss: 0.2152 - accuracy: 0.9353 - val_loss: 0.1895 - val_accuracy: 0.9423 - 31s/epoch - 104ms/step\n",
            "Epoch 9/10\n",
            "300/300 - 30s - loss: 0.1936 - accuracy: 0.9411 - val_loss: 0.1724 - val_accuracy: 0.9480 - 30s/epoch - 100ms/step\n",
            "Epoch 10/10\n",
            "300/300 - 30s - loss: 0.1761 - accuracy: 0.9467 - val_loss: 0.1502 - val_accuracy: 0.9537 - 30s/epoch - 100ms/step\n"
          ]
        },
        {
          "output_type": "execute_result",
          "data": {
            "text/plain": [
              "<keras.callbacks.History at 0x7fab3210c940>"
            ]
          },
          "metadata": {},
          "execution_count": 17
        }
      ]
    },
    {
      "cell_type": "code",
      "source": [
        "scores = model.evaluate(X_test,y_test,verbose=2)"
      ],
      "metadata": {
        "colab": {
          "base_uri": "https://localhost:8080/"
        },
        "id": "WzwI7egENLuS",
        "outputId": "3546f6a7-d5a2-4358-b228-433d77221648"
      },
      "execution_count": null,
      "outputs": [
        {
          "output_type": "stream",
          "name": "stdout",
          "text": [
            "313/313 - 2s - loss: 0.0349 - accuracy: 0.9877 - 2s/epoch - 7ms/step\n"
          ]
        }
      ]
    },
    {
      "cell_type": "code",
      "source": [
        "print(\"Accuracy: {} \\n Error: {}\".format(scores[1], 100-scores[1]*100))"
      ],
      "metadata": {
        "colab": {
          "base_uri": "https://localhost:8080/"
        },
        "id": "oQJ4HkLxZfXs",
        "outputId": "f1ce315d-ba9f-4ff9-e180-990688238277"
      },
      "execution_count": null,
      "outputs": [
        {
          "output_type": "stream",
          "name": "stdout",
          "text": [
            "Accuracy: 0.9876999855041504 \n",
            " Error: 1.230001449584961\n"
          ]
        }
      ]
    },
    {
      "cell_type": "code",
      "source": [],
      "metadata": {
        "id": "mq6lmvng9tUL"
      },
      "execution_count": null,
      "outputs": []
    },
    {
      "cell_type": "code",
      "source": [],
      "metadata": {
        "id": "yJpSEp42-uXS"
      },
      "execution_count": null,
      "outputs": []
    },
    {
      "cell_type": "code",
      "source": [],
      "metadata": {
        "id": "S24kCAea-uTw"
      },
      "execution_count": null,
      "outputs": []
    },
    {
      "cell_type": "code",
      "source": [],
      "metadata": {
        "id": "80qfXl0g-uRD"
      },
      "execution_count": null,
      "outputs": []
    }
  ]
}